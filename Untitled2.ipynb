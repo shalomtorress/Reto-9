{
  "nbformat": 4,
  "nbformat_minor": 0,
  "metadata": {
    "colab": {
      "provenance": []
    },
    "kernelspec": {
      "name": "python3",
      "display_name": "Python 3"
    },
    "language_info": {
      "name": "python"
    }
  },
  "cells": [
    {
      "cell_type": "markdown",
      "source": [
        "# Punto 1\n",
        "primera funcion"
      ],
      "metadata": {
        "id": "sbRwg82puN16"
      }
    },
    {
      "cell_type": "code",
      "source": [
        "if __name__ == \"__main__\":\n",
        "  N = float(input(\"número de gallinas:\"))\n",
        "  M = float(input(\" número de gallos:\"))\n",
        "  K = float(input(\" número de pollitos:\"))\n",
        "\n",
        "  cantidad_carne_gallinas = lambda N: 6*N\n",
        "  cantidad_carne_gallos = lambda M: 7*M\n",
        "  cantidad_carne_pollitos = lambda K: 1*K\n",
        "\n",
        "  total_carne = cantidad_carne_gallinas(N) + cantidad_carne_gallos(M) + cantidad_carne_pollitos(K)\n",
        "\n",
        "  print(\"La cantidad de carne es:\" + str(total_carne))\n",
        ""
      ],
      "metadata": {
        "colab": {
          "base_uri": "https://localhost:8080/"
        },
        "id": "dr_oTKW_uRfE",
        "outputId": "f91835ee-62af-48a8-f177-bb196c30ceda"
      },
      "execution_count": 1,
      "outputs": [
        {
          "output_type": "stream",
          "name": "stdout",
          "text": [
            "número de gallinas:4\n",
            " número de gallos:5\n",
            " número de pollitos:2\n",
            "La cantidad de carne es:61.0\n"
          ]
        }
      ]
    },
    {
      "cell_type": "markdown",
      "source": [
        "segunda funcion"
      ],
      "metadata": {
        "id": "tjD_kVAluZCL"
      }
    },
    {
      "cell_type": "code",
      "source": [
        "if __name__ == \"__main__\":\n",
        "  C = float(input(\"Capital inicial: \"))\n",
        "  i = float(input(\"Tasa de interés anual: \"))\n",
        "  n = int(input(\"Número de meses: \"))\n",
        "\n",
        "  interes_mensual = lambda i: i / 12\n",
        "  valor_final = lambda C, i, n: C * (1 + interes_mensual(i)) ** n\n",
        "\n",
        "  print(\"El valor del préstamo al final del período es:\", valor_final(C, i, n))\n"
      ],
      "metadata": {
        "colab": {
          "base_uri": "https://localhost:8080/"
        },
        "id": "Pn9I4tD_ubsr",
        "outputId": "c85180c2-ab5a-4067-ecd4-124194a20545"
      },
      "execution_count": 2,
      "outputs": [
        {
          "output_type": "stream",
          "name": "stdout",
          "text": [
            "Capital inicial: 1000\n",
            "Tasa de interés anual: 2\n",
            "Número de meses: 5\n",
            "El valor del préstamo al final del período es: 2161.3940329218117\n"
          ]
        }
      ]
    },
    {
      "cell_type": "markdown",
      "source": [
        "tercera funcion"
      ],
      "metadata": {
        "id": "oHJgB7CKuyQ2"
      }
    },
    {
      "cell_type": "code",
      "source": [
        "if __name__ == \"__main__\":\n",
        "  C = int(input(\"Número de contagiados actuales: \"))\n",
        "  D = int(input(\"Número de días: \"))\n",
        "\n",
        "  contagios = lambda C, D: C * 2 ** D\n",
        "\n",
        "  print(\"El número total de contagiados es:\", contagios(C, D))"
      ],
      "metadata": {
        "colab": {
          "base_uri": "https://localhost:8080/"
        },
        "id": "zC4EXFD5u0xt",
        "outputId": "5eab75eb-b50b-4a1d-d940-9df8e31457e9"
      },
      "execution_count": 3,
      "outputs": [
        {
          "output_type": "stream",
          "name": "stdout",
          "text": [
            "Número de contagiados actuales: 41\n",
            "Número de días: 14\n",
            "El número total de contagiados es: 671744\n"
          ]
        }
      ]
    },
    {
      "cell_type": "markdown",
      "source": [
        "# Punto 2\n",
        "primera funcion"
      ],
      "metadata": {
        "id": "XF089FPVu8n1"
      }
    },
    {
      "cell_type": "code",
      "source": [
        "def calcular_carne_aves(*args) -> float:\n",
        "  cantidad_carne = (6*N) + (7*M) + (1*K)\n",
        "  return cantidad_carne\n",
        "\n",
        "if __name__ == \"__main__\":\n",
        "  N = float(input(\"número de gallinas:\"))\n",
        "  M = float(input(\" número de gallos:\"))\n",
        "  K = float(input(\" número de pollitos:\"))\n",
        "  total_carne = calcular_carne_aves(N, M, K)\n",
        "  print(\"La cantidad de carne es:\" + str(total_carne))\n"
      ],
      "metadata": {
        "colab": {
          "base_uri": "https://localhost:8080/"
        },
        "id": "KXkCOeOuvCwa",
        "outputId": "45aca606-52e1-4bf6-80ad-2d101db22285"
      },
      "execution_count": 4,
      "outputs": [
        {
          "output_type": "stream",
          "name": "stdout",
          "text": [
            "número de gallinas:6\n",
            " número de gallos:8\n",
            " número de pollitos:7\n",
            "La cantidad de carne es:99.0\n"
          ]
        }
      ]
    },
    {
      "cell_type": "markdown",
      "source": [
        "segunda funcion"
      ],
      "metadata": {
        "id": "UD-o_ZKJvKTg"
      }
    },
    {
      "cell_type": "code",
      "source": [
        "def calcular_interes(*args):\n",
        "  interes_mensual = i / 12\n",
        "  valor_final = C * (1 + interes_mensual) ** n\n",
        "  return valor_final\n",
        "\n",
        "if __name__ == \"__main__\":\n",
        "  C = float(input(\"Capital inicial: \"))\n",
        "  i = float(input(\"Tasa de interés anual: \"))\n",
        "  n = int(input(\"Número de meses: \"))\n",
        "\n",
        "  valor_final = calcular_interes(C, i, n)\n",
        "\n",
        "  print(\"El valor del préstamo al final del período es:\", valor_final)"
      ],
      "metadata": {
        "colab": {
          "base_uri": "https://localhost:8080/"
        },
        "id": "m4hCx4dfvMxB",
        "outputId": "c70f3a67-c92d-4c39-dcda-4fe71b1121f0"
      },
      "execution_count": 5,
      "outputs": [
        {
          "output_type": "stream",
          "name": "stdout",
          "text": [
            "Capital inicial: 10\n",
            "Tasa de interés anual: 1\n",
            "Número de meses: 12\n",
            "El valor del préstamo al final del período es: 26.13035290224676\n"
          ]
        }
      ]
    },
    {
      "cell_type": "markdown",
      "source": [
        "tercera funcion"
      ],
      "metadata": {
        "id": "ImBSCMWyvW-8"
      }
    },
    {
      "cell_type": "code",
      "source": [
        "def calcular_contagios(*args):\n",
        "  contagiados = C\n",
        "  for i in range(D):\n",
        "    contagiados = contagiados * 2\n",
        "  return contagiados\n",
        "\n",
        "\n",
        "if __name__ == \"__main__\":\n",
        "  C = int(input(\"Número de contagiados actuales: \"))\n",
        "  D = int(input(\"Número de días: \"))\n",
        "\n",
        "  contagiados = calcular_contagios(C, D)\n",
        "\n",
        "  print(\"El número total de contagiados es:\", contagiados)"
      ],
      "metadata": {
        "colab": {
          "base_uri": "https://localhost:8080/"
        },
        "id": "Q1ydIP7pvY1A",
        "outputId": "1b64599a-7565-4b68-ecdc-319e8182498e"
      },
      "execution_count": 6,
      "outputs": [
        {
          "output_type": "stream",
          "name": "stdout",
          "text": [
            "Número de contagiados actuales: 50\n",
            "Número de días: 2\n",
            "El número total de contagiados es: 200\n"
          ]
        }
      ]
    },
    {
      "cell_type": "markdown",
      "source": [
        "#Punto 3\n"
      ],
      "metadata": {
        "id": "Ut6no3levflm"
      }
    },
    {
      "cell_type": "code",
      "source": [
        "def potencia(base, exponente):\n",
        "  if exponente == 0:\n",
        "    return 1\n",
        "  else:\n",
        "    return base * potencia(base, exponente - 1)\n",
        "\n",
        "if __name__ == \"__main__\":\n",
        "  exponente = int(input(\"Ingrese la potencia: \"))\n",
        "  base = float(input(\"Ingrese la base: \"))\n",
        "  resultado = potencia(base, exponente)\n",
        "  print(\"Si elevamos \" + str(base) + \" a \" + str(exponente) + \" es igual a: \" + str(resultado))"
      ],
      "metadata": {
        "colab": {
          "base_uri": "https://localhost:8080/"
        },
        "id": "_d-PMDJ8vl3i",
        "outputId": "d8682cf9-7ff7-4549-9f62-9921f750c613"
      },
      "execution_count": 7,
      "outputs": [
        {
          "output_type": "stream",
          "name": "stdout",
          "text": [
            "Ingrese la potencia: 2\n",
            "Ingrese la base: 2\n",
            "Si elevamos 2.0 a 2 es igual a: 4.0\n"
          ]
        }
      ]
    },
    {
      "cell_type": "markdown",
      "source": [
        "# Punto 4\n"
      ],
      "metadata": {
        "id": "OS1wHEcdvqNt"
      }
    },
    {
      "cell_type": "code",
      "source": [
        "import time\n",
        "\n",
        "def fibo_recursivo(n: int) -> int:\n",
        "  if n <= 1:\n",
        "    return n\n",
        "  else:\n",
        "    return fibo_recursivo(n - 1) + fibo_recursivo(n - 2)\n",
        "\n",
        "\n",
        "def main():\n",
        "\n",
        "  start_time = time.time()\n",
        "  serie_fibonacci = []\n",
        "  for i in range(n):\n",
        "    serie_fibonacci.append(fibo_recursivo(i))\n",
        "  end_time = time.time()\n",
        "  timer = end_time - start_time\n",
        "  return serie_fibonacci, timer\n",
        "\n",
        "\n",
        "if __name__ == \"__main__\":\n",
        "  n = int(input(\"Ingrese el número hasta el que desea calcular la serie de Fibonacci: \"))\n",
        "  serie_fibonacci, timer = main()\n",
        "  print(\"La serie de Fibonacci hasta el número {} es: {}\".format(n, serie_fibonacci))\n",
        "  print(\"El tiempo de ejecución fue de {} segundos\".format(timer))"
      ],
      "metadata": {
        "colab": {
          "base_uri": "https://localhost:8080/"
        },
        "id": "4zmFcY9fvsno",
        "outputId": "103961cf-da0b-46ae-da31-750f295f68ae"
      },
      "execution_count": 8,
      "outputs": [
        {
          "output_type": "stream",
          "name": "stdout",
          "text": [
            "Ingrese el número hasta el que desea calcular la serie de Fibonacci: 20\n",
            "La serie de Fibonacci hasta el número 20 es: [0, 1, 1, 2, 3, 5, 8, 13, 21, 34, 55, 89, 144, 233, 377, 610, 987, 1597, 2584, 4181]\n",
            "El tiempo de ejecución fue de 0.009227752685546875 segundos\n"
          ]
        }
      ]
    },
    {
      "cell_type": "markdown",
      "source": [],
      "metadata": {
        "id": "8VgjOAo_uLy0"
      }
    }
  ]
}